{
 "cells": [
  {
   "cell_type": "code",
   "metadata": {
    "ExecuteTime": {
     "end_time": "2024-08-20T04:49:04.333193Z",
     "start_time": "2024-08-20T04:49:03.657675Z"
    }
   },
   "source": [
    "import os\n",
    "from supabase import create_client, Client\n",
    "\n",
    "from dotenv import load_dotenv\n",
    "\n",
    "load_dotenv()\n",
    "\n",
    "supabase_url = os.getenv(\"SUPABASE_URL\")\n",
    "supabase_key = os.getenv(\"SUPABASE_KEY\")\n",
    "\n",
    "supabase: Client = create_client(supabase_url, supabase_key)"
   ],
   "outputs": [],
   "execution_count": 1
  },
  {
   "cell_type": "code",
   "metadata": {
    "ExecuteTime": {
     "end_time": "2024-08-19T13:10:01.275668Z",
     "start_time": "2024-08-19T13:10:01.270139Z"
    }
   },
   "source": [
    "import uuid\n",
    "\n",
    "# Generate a random UUID\n",
    "random_uuid = uuid.uuid4()\n",
    "\n",
    "random_uuid"
   ],
   "outputs": [
    {
     "data": {
      "text/plain": [
       "UUID('247e3ca7-e281-4012-a6cc-7208e3fcb223')"
      ]
     },
     "execution_count": 6,
     "metadata": {},
     "output_type": "execute_result"
    }
   ],
   "execution_count": 6
  },
  {
   "cell_type": "code",
   "metadata": {
    "ExecuteTime": {
     "end_time": "2024-08-19T13:10:04.602951Z",
     "start_time": "2024-08-19T13:10:04.462117Z"
    }
   },
   "source": [
    "response = (\n",
    "    supabase.table(\"video\")\n",
    "    .insert({\"id\": str(random_uuid), \"youtube_id\": \"321\" })\n",
    "    .execute()\n",
    ")\n",
    "response"
   ],
   "outputs": [
    {
     "data": {
      "text/plain": [
       "APIResponse[TypeVar](data=[{'id': '247e3ca7-e281-4012-a6cc-7208e3fcb223', 'created_at': '2024-08-19T13:10:07.97056+00:00', 'youtube_id': '321', 'title': '', 'author': '', 'description': ''}], count=None)"
      ]
     },
     "execution_count": 7,
     "metadata": {},
     "output_type": "execute_result"
    }
   ],
   "execution_count": 7
  },
  {
   "cell_type": "code",
   "execution_count": 15,
   "metadata": {},
   "outputs": [
    {
     "data": {
      "text/plain": [
       "APIResponse[TypeVar](data=[{'id': 'f42fe1f9-9dc7-4346-9e13-c9924e486557', 'created_at': '2024-08-19T12:27:06.917188+00:00', 'youtube_id': '123', 'title': 'test', 'author': '', 'description': ''}, {'id': '358135cd-7f3e-4c45-b877-cbc3cb310bb4', 'created_at': '2024-08-19T12:32:26.316061+00:00', 'youtube_id': '321', 'title': '', 'author': '', 'description': ''}], count=None)"
      ]
     },
     "execution_count": 15,
     "metadata": {},
     "output_type": "execute_result"
    }
   ],
   "source": [
    "response = supabase.table(\"video\").select(\"*\").execute()\n",
    "\n",
    "response"
   ]
  },
  {
   "metadata": {
    "ExecuteTime": {
     "end_time": "2024-08-19T14:18:31.590886Z",
     "start_time": "2024-08-19T14:18:31.439044Z"
    }
   },
   "cell_type": "code",
   "source": [
    "response = supabase \\\n",
    "    .from_(\"video\") \\\n",
    "    .select(\"*\") \\\n",
    "    .eq(\"id\", \"247e3ca7-e281-4012-a6cc-7208e3fcb223\") \\\n",
    "    .single().execute()\n",
    "\n",
    "response\n"
   ],
   "outputs": [
    {
     "data": {
      "text/plain": [
       "SingleAPIResponse[TypeVar](data={'id': '247e3ca7-e281-4012-a6cc-7208e3fcb223', 'created_at': '2024-08-19T13:10:07.97056+00:00', 'youtube_id': '321', 'title': '', 'author': '', 'description': ''}, count=None)"
      ]
     },
     "execution_count": 18,
     "metadata": {},
     "output_type": "execute_result"
    }
   ],
   "execution_count": 18
  },
  {
   "metadata": {},
   "cell_type": "markdown",
   "source": "# Vector Store"
  },
  {
   "metadata": {
    "ExecuteTime": {
     "end_time": "2024-08-20T05:18:24.336638Z",
     "start_time": "2024-08-20T05:18:23.959580Z"
    }
   },
   "cell_type": "code",
   "source": [
    "from langchain_community.vectorstores import SupabaseVectorStore\n",
    "from langchain_openai.embeddings import OpenAIEmbeddings\n",
    "from langchain_core.documents import Document\n",
    "from langchain_community.vectorstores import SupabaseVectorStore\n",
    "\n",
    "\n",
    "embeddings = OpenAIEmbeddings()\n",
    "vector_store = SupabaseVectorStore(\n",
    "    client=supabase,\n",
    "    embedding=embeddings,\n",
    "    table_name=\"documents\",\n",
    "    query_name=\"match_documents\",\n",
    ")"
   ],
   "outputs": [],
   "execution_count": 10
  },
  {
   "metadata": {
    "ExecuteTime": {
     "end_time": "2024-08-20T05:18:28.556363Z",
     "start_time": "2024-08-20T05:18:27.329787Z"
    }
   },
   "cell_type": "code",
   "source": [
    "docs = [\n",
    "    Document(page_content=\"foo\", metadata={\"video_id\": \"173b2d60-87aa-47fe-b04d-c229f2a8a28c\"}),\n",
    "]\n",
    "vector_store.add_documents(docs);"
   ],
   "outputs": [],
   "execution_count": 11
  }
 ],
 "metadata": {
  "kernelspec": {
   "display_name": ".venv",
   "language": "python",
   "name": "python3"
  },
  "language_info": {
   "codemirror_mode": {
    "name": "ipython",
    "version": 3
   },
   "file_extension": ".py",
   "mimetype": "text/x-python",
   "name": "python",
   "nbconvert_exporter": "python",
   "pygments_lexer": "ipython3",
   "version": "3.12.3"
  }
 },
 "nbformat": 4,
 "nbformat_minor": 2
}
