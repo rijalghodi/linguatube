{
 "cells": [
  {
   "cell_type": "markdown",
   "metadata": {},
   "source": [
    "# Quick Dictionary"
   ]
  },
  {
   "cell_type": "code",
   "execution_count": 1,
   "metadata": {},
   "outputs": [
    {
     "data": {
      "text/plain": [
       "True"
      ]
     },
     "execution_count": 1,
     "metadata": {},
     "output_type": "execute_result"
    }
   ],
   "source": [
    "from dotenv import load_dotenv\n",
    "\n",
    "load_dotenv()"
   ]
  },
  {
   "cell_type": "markdown",
   "metadata": {},
   "source": [
    "# Translation Chain"
   ]
  },
  {
   "cell_type": "code",
   "execution_count": 2,
   "metadata": {},
   "outputs": [],
   "source": [
    "from langchain_openai import ChatOpenAI\n",
    "\n",
    "# Define model\n",
    "openai = ChatOpenAI(model=\"gpt-3.5-turbo\")"
   ]
  },
  {
   "cell_type": "code",
   "execution_count": 28,
   "metadata": {},
   "outputs": [],
   "source": [
    "from langchain_core.prompts import ChatPromptTemplate, PromptTemplate\n",
    "\n",
    "translation_message = (\n",
    "    \"You are a quick dictionary. Translate the following word into {language}. \"\n",
    "    \"Only reply with the answer.\\n\\n\"\n",
    "    \"Word: {word}\\n\"\n",
    "    \"Context Sentence: {sentence}\\n\"\n",
    "    \"Translation: \"\n",
    ")\n",
    "\n",
    "translation_prompt = PromptTemplate(\n",
    "    input_variables=[\"word\", \"sentence\", \"language\"],\n",
    "    template=translation_message\n",
    ")"
   ]
  },
  {
   "cell_type": "code",
   "execution_count": 29,
   "metadata": {},
   "outputs": [
    {
     "data": {
      "text/plain": [
       "StringPromptValue(text='You are a quick dictionary. Translate the following word into Indonesian. Only reply with the answer.\\n\\nWord: Dreadful\\nContext Sentence: The stormy weather made the drive home absolutely dreadful\\nLanguage to translate to: Indonesian\\nTranslation: ')"
      ]
     },
     "execution_count": 29,
     "metadata": {},
     "output_type": "execute_result"
    }
   ],
   "source": [
    "translation_prompt.invoke(\n",
    "    {\n",
    "        \"language\": \"Indonesian\", \n",
    "        \"sentence\": \"The stormy weather made the drive home absolutely dreadful\",\n",
    "        \"word\": \"Dreadful\",\n",
    "    }\n",
    ")"
   ]
  },
  {
   "cell_type": "code",
   "execution_count": 25,
   "metadata": {},
   "outputs": [],
   "source": [
    "from langchain_core.output_parsers import StrOutputParser\n",
    "\n",
    "translation_chain = translation_prompt | openai | StrOutputParser()"
   ]
  },
  {
   "cell_type": "code",
   "execution_count": 30,
   "metadata": {},
   "outputs": [
    {
     "data": {
      "text/plain": [
       "'mengerikan'"
      ]
     },
     "execution_count": 30,
     "metadata": {},
     "output_type": "execute_result"
    }
   ],
   "source": [
    "translation_chain.invoke(\n",
    "    {\n",
    "        \"language\": \"indoenesia\", \n",
    "        \"sentence\": \"The stormy weather made the drive home absolutely dreadful\",\n",
    "        \"word\": \"Dreadful\",\n",
    "    }\n",
    ")"
   ]
  },
  {
   "cell_type": "markdown",
   "metadata": {},
   "source": [
    "# Word Info Chain"
   ]
  },
  {
   "cell_type": "code",
   "execution_count": 16,
   "metadata": {},
   "outputs": [],
   "source": [
    "from langchain.prompts import PromptTemplate, FewShotPromptTemplate\n",
    "\n",
    "# Define the example template\n",
    "example_template = \"\"\"\n",
    "Word: {word}\n",
    "Context Sentence: {sentence}\n",
    "Word Information: {answer}\n",
    "\"\"\"\n",
    "\n",
    "# Define our examples\n",
    "examples = [\n",
    "#     {\n",
    "#         \"word\": \"Serendipity\",\n",
    "#         \"sentence\": \"While browsing the old bookstore, I serendipitously found a rare first-edition novel I had been seeking for years.\",\n",
    "#         \"answer\": \"\"\"{{\n",
    "#     \"word\": \"Serendipity\",\n",
    "#     \"definition\": \"The occurrence and development of events by chance in a happy or beneficial way\",\n",
    "#     \"synonym\": \"Luck, Fortune, Chance\",\n",
    "#     \"example\": [\n",
    "#         \"Finding a rare book at a garage sale was a moment of serendipity\",\n",
    "#         \"Their meeting was pure serendipity - they bumped into each other at the airport\",\n",
    "#         \"Scientists often rely on serendipity to make unexpected breakthroughs\"\n",
    "#     ],\n",
    "#     \"usage\": \"Serendipity is often used to describe happy accidents or fortunate discoveries that occur by chance.\"\n",
    "# }}\"\"\"\n",
    "#     },\n",
    "    {\n",
    "        \"word\": \"Piece of cake\",\n",
    "        \"sentence\": \"Finishing the project was a piece of cake.\",\n",
    "        \"answer\": \"\"\"{{\n",
    "    \"word\": \"Piece of cake\",\n",
    "    \"definition\": \"A task or activity that is very easy to accomplish\",\n",
    "    \"synonym\": \"Easy, Simple, Effortless\",\n",
    "    \"example\": [\n",
    "        \"The exam was a piece of cake, I finished it in 20 minutes\",\n",
    "        \"Cooking this dish is a piece of cake, anyone can do it\",\n",
    "        \"For him, solving that math problem was a piece of cake\"\n",
    "    ],\n",
    "    \"usage\": \"'Piece of cake' is commonly used in informal conversations to describe tasks that are very easy to complete.\"\n",
    "}}\"\"\"\n",
    "    }\n",
    "]\n",
    "\n",
    "# Create the example prompt\n",
    "example_prompt = PromptTemplate(\n",
    "    input_variables=[\"word\", \"sentence\", \"answer\"],\n",
    "    template=example_template,\n",
    ")\n",
    "\n",
    "# Create the few-shot prompt template\n",
    "word_info_prompt = FewShotPromptTemplate(\n",
    "    examples=examples,\n",
    "    example_prompt=example_prompt,\n",
    "    prefix=\"Provide information about the given English word. Follow the format of the examples provided below:\",\n",
    "    suffix=\"Word: {word}\\nContext Setece: {sentence}\\nWord Information: \",\n",
    "    input_variables=[\"word\", \"sentence\"],\n",
    "    example_separator=\"\\n\\n\"\n",
    ")"
   ]
  },
  {
   "cell_type": "code",
   "execution_count": 17,
   "metadata": {},
   "outputs": [
    {
     "data": {
      "text/plain": [
       "StringPromptValue(text='Provide information about the given English word. Follow the format of the examples provided below:\\n\\n\\nWord: Piece of cake\\nContext Sentence: Finishing the project was a piece of cake.\\nWord Information: {\\n    \"word\": \"Piece of cake\",\\n    \"definition\": \"A task or activity that is very easy to accomplish\",\\n    \"synonym\": \"Easy, Simple, Effortless\",\\n    \"example\": [\\n        \"The exam was a piece of cake, I finished it in 20 minutes\",\\n        \"Cooking this dish is a piece of cake, anyone can do it\",\\n        \"For him, solving that math problem was a piece of cake\"\\n    ],\\n    \"usage\": \"\\'Piece of cake\\' is commonly used in informal conversations to describe tasks that are very easy to complete.\"\\n}\\n\\n\\nWord: Obituary\\nContext Setece: \\nWord Information: ')"
      ]
     },
     "execution_count": 17,
     "metadata": {},
     "output_type": "execute_result"
    }
   ],
   "source": [
    "word_info_prompt.invoke({\"word\": \"Obituary\", \"sentence\": \"\", \"native_language\": \"Indonesia\"})"
   ]
  },
  {
   "cell_type": "code",
   "execution_count": 18,
   "metadata": {},
   "outputs": [],
   "source": [
    "word_info_chain = word_info_prompt | openai | StrOutputParser()"
   ]
  },
  {
   "cell_type": "code",
   "execution_count": 19,
   "metadata": {},
   "outputs": [
    {
     "data": {
      "text/plain": [
       "'{\\n    \"word\": \"Piss off\",\\n    \"definition\": \"An impolite way of telling someone to go away or stop annoying you\",\\n    \"synonym\": \"Go away, Leave me alone, Annoy off\",\\n    \"example\": [\\n        \"She told him to piss off after he kept bothering her\",\\n        \"I had to piss off my annoying neighbor who wouldn\\'t stop talking to me\",\\n        \"If someone is bothering you, just tell them to piss off\"\\n    ],\\n    \"usage\": \"\\'Piss off\\' is considered rude and offensive, so it should be used carefully and only in informal settings.\"\\n}'"
      ]
     },
     "execution_count": 19,
     "metadata": {},
     "output_type": "execute_result"
    }
   ],
   "source": [
    "word_info_chain.invoke({\"word\": \"Piss of\", \"sentence\": \"\"})"
   ]
  }
 ],
 "metadata": {
  "kernelspec": {
   "display_name": ".venv",
   "language": "python",
   "name": "python3"
  },
  "language_info": {
   "codemirror_mode": {
    "name": "ipython",
    "version": 3
   },
   "file_extension": ".py",
   "mimetype": "text/x-python",
   "name": "python",
   "nbconvert_exporter": "python",
   "pygments_lexer": "ipython3",
   "version": "3.12.3"
  }
 },
 "nbformat": 4,
 "nbformat_minor": 2
}
