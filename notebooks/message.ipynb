{
 "cells": [
  {
   "cell_type": "code",
   "id": "initial_id",
   "metadata": {
    "collapsed": true,
    "ExecuteTime": {
     "end_time": "2024-08-19T15:16:01.584814Z",
     "start_time": "2024-08-19T15:16:01.571091Z"
    }
   },
   "source": [
    "from langchain_core.messages import BaseMessage, HumanMessage, AIMessage\n",
    "\n",
    "foo = HumanMessage(content=\"Hello\")\n",
    "foo.type"
   ],
   "outputs": [
    {
     "data": {
      "text/plain": [
       "'human'"
      ]
     },
     "execution_count": 6,
     "metadata": {},
     "output_type": "execute_result"
    }
   ],
   "execution_count": 6
  },
  {
   "metadata": {},
   "cell_type": "code",
   "outputs": [],
   "execution_count": null,
   "source": [
    "from langchain_openai import ChatOpenAI\n",
    "\n",
    "model = ChatOpenAI(model=\"gpt-4o\")\n",
    "\n",
    "result = model.invoke(conversation)"
   ],
   "id": "427e5401deebc3c4"
  },
  {
   "metadata": {
    "ExecuteTime": {
     "end_time": "2024-08-19T15:29:55.111221Z",
     "start_time": "2024-08-19T15:29:55.100806Z"
    }
   },
   "cell_type": "code",
   "source": [
    "foo = {\n",
    "    \"hello\": \"jaja\"\n",
    "}\n",
    "\n",
    "key, value = list(foo.items())[0]\n",
    "\n",
    "key"
   ],
   "id": "2d5d3084d036dd84",
   "outputs": [
    {
     "data": {
      "text/plain": [
       "'hello'"
      ]
     },
     "execution_count": 8,
     "metadata": {},
     "output_type": "execute_result"
    }
   ],
   "execution_count": 8
  }
 ],
 "metadata": {
  "kernelspec": {
   "display_name": "Python 3",
   "language": "python",
   "name": "python3"
  },
  "language_info": {
   "codemirror_mode": {
    "name": "ipython",
    "version": 2
   },
   "file_extension": ".py",
   "mimetype": "text/x-python",
   "name": "python",
   "nbconvert_exporter": "python",
   "pygments_lexer": "ipython2",
   "version": "2.7.6"
  }
 },
 "nbformat": 4,
 "nbformat_minor": 5
}
