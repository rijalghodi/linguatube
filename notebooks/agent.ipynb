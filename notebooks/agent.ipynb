{
 "cells": [
  {
   "cell_type": "code",
   "execution_count": 3,
   "id": "158e6fd66371c1d2",
   "metadata": {
    "ExecuteTime": {
     "end_time": "2024-08-22T05:27:58.848475Z",
     "start_time": "2024-08-22T05:27:58.830034Z"
    }
   },
   "outputs": [
    {
     "data": {
      "text/plain": [
       "True"
      ]
     },
     "execution_count": 3,
     "metadata": {},
     "output_type": "execute_result"
    }
   ],
   "source": [
    "from importlib.metadata import metadata\n",
    "\n",
    "from dotenv import load_dotenv\n",
    "\n",
    "load_dotenv()"
   ]
  },
  {
   "cell_type": "code",
   "execution_count": 6,
   "id": "initial_id",
   "metadata": {
    "ExecuteTime": {
     "end_time": "2024-08-22T05:28:00.483223Z",
     "start_time": "2024-08-22T05:27:58.899707Z"
    },
    "collapsed": true
   },
   "outputs": [],
   "source": [
    "from supabase import Client\n",
    "\n",
    "from langchain_openai.embeddings import OpenAIEmbeddings\n",
    "from langchain_core.documents import Document\n",
    "from langchain_community.vectorstores import SupabaseVectorStore\n",
    "\n",
    "def document_retriever(\n",
    "    client: Client,\n",
    "    documents: list[Document],\n",
    ") -> list[str]:\n",
    "    embeddings = OpenAIEmbeddings()\n",
    "    vector_store = SupabaseVectorStore(\n",
    "        client=client,\n",
    "        embedding=embeddings,\n",
    "        table_name=\"documents\",\n",
    "        query_name=\"match_documents\",\n",
    "    )\n",
    "    retriever = vector_store.as_retriever()\n",
    "\n",
    "    return retriever"
   ]
  },
  {
   "cell_type": "code",
   "execution_count": 9,
   "id": "c7e072741a0c4b60",
   "metadata": {
    "ExecuteTime": {
     "end_time": "2024-08-22T05:28:01.052337Z",
     "start_time": "2024-08-22T05:28:00.488396Z"
    }
   },
   "outputs": [],
   "source": [
    "from langchain_openai import OpenAIEmbeddings\n",
    "from supabase import create_client, Client\n",
    "from langchain_core.tools import StructuredTool, Tool\n",
    "import os\n",
    "\n",
    "from dotenv import load_dotenv\n",
    "\n",
    "load_dotenv()\n",
    "\n",
    "supabase_url = os.getenv(\"SUPABASE_URL\")\n",
    "supabase_key = os.getenv(\"SUPABASE_KEY\")\n",
    "\n",
    "supabase: Client = create_client(supabase_url, supabase_key)\n",
    "\n",
    "# Add to vectorDB\n",
    "vectorstore = SupabaseVectorStore(\n",
    "    client=supabase,\n",
    "    embedding=OpenAIEmbeddings(),\n",
    "    table_name=\"documents\",\n",
    "    query_name=\"match_documents\",\n",
    ")\n",
    "    \n",
    "retriever = vectorstore.as_retriever()"
   ]
  },
  {
   "cell_type": "code",
   "execution_count": 10,
   "id": "36dc442b3efd4948",
   "metadata": {
    "ExecuteTime": {
     "end_time": "2024-08-22T05:28:02.887139Z",
     "start_time": "2024-08-22T05:28:01.059834Z"
    }
   },
   "outputs": [
    {
     "data": {
      "text/plain": [
       "['-8028667674164052118']"
      ]
     },
     "execution_count": 10,
     "metadata": {},
     "output_type": "execute_result"
    }
   ],
   "source": [
    "import random\n",
    "\n",
    "def random_bigint():\n",
    "   return random.randint(-9223372036854775808, 9223372036854775807) \n",
    "\n",
    "vectorstore.add_documents([\n",
    "    Document(\n",
    "        page_content=\"Dermaga Biru is chep tourism. I cost only $10 a night. You can see beautiful beach with fun parties.\", \n",
    "        metadata={\"video_id\": \"1\"}\n",
    "    )\n",
    "], ids=[random_bigint()])"
   ]
  },
  {
   "cell_type": "code",
   "execution_count": 11,
   "id": "18074ea27c9d625",
   "metadata": {
    "ExecuteTime": {
     "end_time": "2024-08-22T05:28:03.530394Z",
     "start_time": "2024-08-22T05:28:02.909269Z"
    }
   },
   "outputs": [
    {
     "name": "stdout",
     "output_type": "stream",
     "text": [
      "page_content='Dermaga Biru is a tourism in Bali Indonesia. It offers user with beautiful scenery from an edge of cliff near beach.' metadata={'video_id': '1'}\n",
      "page_content='Dermaga Biru is chep tourism. I cost only $10 a night. You can see beautiful beach with fun parties.' metadata={'video_id': '1'}\n"
     ]
    }
   ],
   "source": [
    "foo = vectorstore.similarity_search(\"What is Dermaga Biru?\", 2)\n",
    "\n",
    "for fp in foo:\n",
    "    print(fp)"
   ]
  },
  {
   "cell_type": "code",
   "execution_count": 12,
   "id": "d529c0cfc928b8f2",
   "metadata": {
    "ExecuteTime": {
     "end_time": "2024-08-22T05:28:04.319157Z",
     "start_time": "2024-08-22T05:28:03.552054Z"
    }
   },
   "outputs": [
    {
     "data": {
      "text/plain": [
       "[Document(metadata={'video_id': '1'}, page_content='Dermaga Biru is a tourism in Bali Indonesia. It offers user with beautiful scenery from an edge of cliff near beach.'),\n",
       " Document(metadata={'video_id': '1'}, page_content='Dermaga Biru is chep tourism. I cost only $10 a night. You can see beautiful beach with fun parties.'),\n",
       " Document(metadata={'video_id': '1'}, page_content='Dermaga Biru is chep tourism. I cost only $10 a night. You can see beautiful beach with fun parties.'),\n",
       " Document(metadata={'video_id': '1'}, page_content='Dermaga Biru is chep tourism. I cost only $10 a night. You can see beautiful beach with fun parties.')]"
      ]
     },
     "execution_count": 12,
     "metadata": {},
     "output_type": "execute_result"
    }
   ],
   "source": [
    "retriever.invoke(\"Dermaga biru\")"
   ]
  },
  {
   "cell_type": "code",
   "execution_count": 13,
   "id": "63870a055364c6f8",
   "metadata": {
    "ExecuteTime": {
     "end_time": "2024-08-22T05:28:04.380096Z",
     "start_time": "2024-08-22T05:28:04.339425Z"
    }
   },
   "outputs": [],
   "source": [
    "from langchain.tools.retriever import create_retriever_tool\n",
    "\n",
    "retriever_tool = create_retriever_tool(\n",
    "    retriever,\n",
    "    name=\"retrieve_document\",\n",
    "    description=\"Search and return information from content that may user ask.\",\n",
    ")\n",
    "\n",
    "tools = [retriever_tool]"
   ]
  },
  {
   "cell_type": "markdown",
   "id": "3714f06076f847ea",
   "metadata": {},
   "source": [
    "# Agent\n"
   ]
  },
  {
   "cell_type": "code",
   "execution_count": 14,
   "id": "4b28056cf7931fd0",
   "metadata": {
    "ExecuteTime": {
     "end_time": "2024-08-22T05:28:04.408328Z",
     "start_time": "2024-08-22T05:28:04.401993Z"
    }
   },
   "outputs": [],
   "source": [
    "from typing import Annotated, Sequence, TypedDict\n",
    "\n",
    "from langchain_core.messages import BaseMessage\n",
    "\n",
    "from langgraph.graph.message import add_messages\n",
    "\n",
    "class AgentState(TypedDict):\n",
    "    # The add_messages function defines how an update should be processed\n",
    "    # Default is to replace. add_messages says \"append\"\n",
    "    messages: Annotated[Sequence[BaseMessage], add_messages]"
   ]
  },
  {
   "cell_type": "code",
   "execution_count": 15,
   "id": "c92ad408f095a1b6",
   "metadata": {
    "ExecuteTime": {
     "end_time": "2024-08-22T05:28:05.809884Z",
     "start_time": "2024-08-22T05:28:04.425280Z"
    }
   },
   "outputs": [
    {
     "name": "stdout",
     "output_type": "stream",
     "text": [
      "********************Prompt[rlm/rag-prompt]********************\n",
      "================================\u001b[1m Human Message \u001b[0m=================================\n",
      "\n",
      "You are an assistant for question-answering tasks. Use the following pieces of retrieved context to answer the question. If you don't know the answer, just say that you don't know. Use three sentences maximum and keep the answer concise.\n",
      "Question: \u001b[33;1m\u001b[1;3m{question}\u001b[0m \n",
      "Context: \u001b[33;1m\u001b[1;3m{context}\u001b[0m \n",
      "Answer:\n"
     ]
    },
    {
     "name": "stderr",
     "output_type": "stream",
     "text": [
      "d:\\Document\\Machine_Learning_Journey\\Projects\\Langchain\\Linguatube\\linguatube\\.venv\\Lib\\site-packages\\langchain_core\\_api\\beta_decorator.py:87: LangChainBetaWarning: The function `loads` is in beta. It is actively being worked on, so the API may change.\n",
      "  warn_beta(\n"
     ]
    }
   ],
   "source": [
    "from typing import Annotated, Literal, Sequence, TypedDict\n",
    "\n",
    "from langchain import hub\n",
    "from langchain_core.messages import BaseMessage, HumanMessage\n",
    "from langchain_core.output_parsers import StrOutputParser\n",
    "from langchain_core.prompts import PromptTemplate\n",
    "from langchain_core.pydantic_v1 import BaseModel, Field\n",
    "from langchain_openai import ChatOpenAI\n",
    "\n",
    "from langgraph.prebuilt import tools_condition\n",
    "\n",
    "### Edges\n",
    "\n",
    "\n",
    "def grade_documents(state) -> Literal[\"generate\", \"rewrite\"]:\n",
    "    \"\"\"\n",
    "    Determines whether the retrieved documents are relevant to the question.\n",
    "\n",
    "    Args:\n",
    "        state (messages): The current state\n",
    "\n",
    "    Returns:\n",
    "        str: A decision for whether the documents are relevant or not\n",
    "    \"\"\"\n",
    "\n",
    "    print(\"---CHECK RELEVANCE---\")\n",
    "\n",
    "    # Data model\n",
    "    class grade(BaseModel):\n",
    "        \"\"\"Binary score for relevance check.\"\"\"\n",
    "\n",
    "        binary_score: str = Field(description=\"Relevance score 'yes' or 'no'\")\n",
    "\n",
    "    # LLM\n",
    "    model = ChatOpenAI(temperature=0, model=\"gpt-4-0125-preview\", streaming=True)\n",
    "\n",
    "    # LLM with tool and validation\n",
    "    llm_with_tool = model.with_structured_output(grade)\n",
    "\n",
    "    # Prompt\n",
    "    prompt = PromptTemplate(\n",
    "        template=\"\"\"You are a grader assessing relevance of a retrieved document to a user question. \\n \n",
    "        Here is the retrieved document: \\n\\n {context} \\n\\n\n",
    "        Here is the user question: {question} \\n\n",
    "        If the document contains keyword(s) or semantic meaning related to the user question, grade it as relevant. \\n\n",
    "        Give a binary score 'yes' or 'no' score to indicate whether the document is relevant to the question.\"\"\",\n",
    "        input_variables=[\"context\", \"question\"],\n",
    "    )\n",
    "\n",
    "    # Chain\n",
    "    chain = prompt | llm_with_tool\n",
    "\n",
    "    messages = state[\"messages\"]\n",
    "    last_message = messages[-1]\n",
    "\n",
    "    question = messages[0].content\n",
    "    docs = last_message.content\n",
    "\n",
    "    scored_result = chain.invoke({\"question\": question, \"context\": docs})\n",
    "\n",
    "    score = scored_result.binary_score\n",
    "\n",
    "    if score == \"yes\":\n",
    "        print(\"---DECISION: DOCS RELEVANT---\")\n",
    "        return \"generate\"\n",
    "\n",
    "    else:\n",
    "        print(\"---DECISION: DOCS NOT RELEVANT---\")\n",
    "        print(score)\n",
    "        return \"rewrite\"\n",
    "\n",
    "\n",
    "### Nodes\n",
    "\n",
    "\n",
    "def agent(state):\n",
    "    \"\"\"\n",
    "    Invokes the agent model to generate a response based on the current state. Given\n",
    "    the question, it will decide to retrieve using the retriever tool, or simply end.\n",
    "\n",
    "    Args:\n",
    "        state (messages): The current state\n",
    "\n",
    "    Returns:\n",
    "        dict: The updated state with the agent response appended to messages\n",
    "    \"\"\"\n",
    "    print(\"---CALL AGENT---\")\n",
    "    messages = state[\"messages\"]\n",
    "    model = ChatOpenAI(temperature=0, streaming=True, model=\"gpt-4-turbo\")\n",
    "    model = model.bind_tools(tools)\n",
    "    response = model.invoke(messages)\n",
    "    # We return a list, because this will get added to the existing list\n",
    "    return {\"messages\": [response]}\n",
    "\n",
    "\n",
    "def rewrite(state):\n",
    "    \"\"\"\n",
    "    Transform the query to produce a better question.\n",
    "\n",
    "    Args:\n",
    "        state (messages): The current state\n",
    "\n",
    "    Returns:\n",
    "        dict: The updated state with re-phrased question\n",
    "    \"\"\"\n",
    "\n",
    "    print(\"---TRANSFORM QUERY---\")\n",
    "    messages = state[\"messages\"]\n",
    "    question = messages[0].content\n",
    "\n",
    "    msg = [\n",
    "        HumanMessage(\n",
    "            content=f\"\"\" \\n \n",
    "    Look at the input and try to reason about the underlying semantic intent / meaning. \\n \n",
    "    Here is the initial question:\n",
    "    \\n ------- \\n\n",
    "    {question} \n",
    "    \\n ------- \\n\n",
    "    Formulate an improved question: \"\"\",\n",
    "        )\n",
    "    ]\n",
    "\n",
    "    # Grader\n",
    "    model = ChatOpenAI(temperature=0, model=\"gpt-4-0125-preview\", streaming=True)\n",
    "    response = model.invoke(msg)\n",
    "    return {\"messages\": [response]}\n",
    "\n",
    "\n",
    "def generate(state):\n",
    "    \"\"\"\n",
    "    Generate answer\n",
    "\n",
    "    Args:\n",
    "        state (messages): The current state\n",
    "\n",
    "    Returns:\n",
    "         dict: The updated state with re-phrased question\n",
    "    \"\"\"\n",
    "    print(\"---GENERATE---\")\n",
    "    messages = state[\"messages\"]\n",
    "    question = messages[0].content\n",
    "    last_message = messages[-1]\n",
    "\n",
    "    question = messages[0].content\n",
    "    docs = last_message.content\n",
    "\n",
    "    # Prompt\n",
    "    prompt = hub.pull(\"rlm/rag-prompt\")\n",
    "\n",
    "    # LLM\n",
    "    llm = ChatOpenAI(model_name=\"gpt-3.5-turbo\", temperature=0, streaming=True)\n",
    "\n",
    "    # Post-processing\n",
    "    def format_docs(docs):\n",
    "        return \"\\n\\n\".join(doc.page_content for doc in docs)\n",
    "\n",
    "    # Chain\n",
    "    rag_chain = prompt | llm | StrOutputParser()\n",
    "\n",
    "    # Run\n",
    "    response = rag_chain.invoke({\"context\": docs, \"question\": question})\n",
    "    return {\"messages\": [response]}\n",
    "\n",
    "\n",
    "print(\"*\" * 20 + \"Prompt[rlm/rag-prompt]\" + \"*\" * 20)\n",
    "prompt = hub.pull(\"rlm/rag-prompt\").pretty_print()  # Show what the prompt looks like"
   ]
  },
  {
   "cell_type": "code",
   "execution_count": 16,
   "id": "6a196e7da079f050",
   "metadata": {
    "ExecuteTime": {
     "end_time": "2024-08-22T05:28:05.827954Z",
     "start_time": "2024-08-22T05:28:05.817584Z"
    }
   },
   "outputs": [],
   "source": [
    "from langgraph.graph import END, StateGraph, START\n",
    "from langgraph.prebuilt import ToolNode\n",
    "\n",
    "# Define a new graph\n",
    "workflow = StateGraph(AgentState)\n",
    "\n",
    "# Define the nodes we will cycle between\n",
    "workflow.add_node(\"agent\", agent)  # agent\n",
    "retrieve = ToolNode(tools)\n",
    "workflow.add_node(\"retrieve\", retrieve)  # retrieval\n",
    "workflow.add_node(\"rewrite\", rewrite)  # Re-writing the question\n",
    "workflow.add_node(\n",
    "    \"generate\", generate\n",
    ")  # Generating a response after we know the documents are relevant\n",
    "# Call agent node to decide to retrieve or not\n",
    "workflow.add_edge(START, \"agent\")\n",
    "\n",
    "# Decide whether to retrieve\n",
    "workflow.add_conditional_edges(\n",
    "    \"agent\",\n",
    "    # Assess agent decision\n",
    "    tools_condition,\n",
    "    {\n",
    "        # Translate the condition outputs to nodes in our graph\n",
    "        \"tools\": \"retrieve\",\n",
    "        END: END,\n",
    "    },\n",
    ")\n",
    "\n",
    "# Edges taken after the `action` node is called.\n",
    "workflow.add_conditional_edges(\n",
    "    \"retrieve\",\n",
    "    # Assess agent decision\n",
    "    grade_documents,\n",
    ")\n",
    "workflow.add_edge(\"generate\", END)\n",
    "workflow.add_edge(\"rewrite\", \"agent\")"
   ]
  },
  {
   "cell_type": "code",
   "execution_count": 17,
   "id": "37a17f51067695dd",
   "metadata": {
    "ExecuteTime": {
     "end_time": "2024-08-22T05:28:07.282627Z",
     "start_time": "2024-08-22T05:28:05.842121Z"
    }
   },
   "outputs": [
    {
     "data": {
      "image/jpeg": "[encoded data removed]",
      "text/plain": [
       "<IPython.core.display.Image object>"
      ]
     },
     "metadata": {},
     "output_type": "display_data"
    }
   ],
   "source": [
    "from langgraph.checkpoint.memory import MemorySaver\n",
    "\n",
    "graph = workflow.compile()\n",
    "\n",
    "from IPython.display import Image, display\n",
    "\n",
    "try:\n",
    "    display(Image(graph.get_graph(xray=True).draw_mermaid_png()))\n",
    "except Exception:\n",
    "    # This requires some extra dependencies and is optional\n",
    "    pass"
   ]
  },
  {
   "cell_type": "code",
   "execution_count": 18,
   "id": "b658e9a5978b352b",
   "metadata": {
    "ExecuteTime": {
     "end_time": "2024-08-22T05:28:14.021782Z",
     "start_time": "2024-08-22T05:28:07.297246Z"
    }
   },
   "outputs": [
    {
     "name": "stdout",
     "output_type": "stream",
     "text": [
      "---CALL AGENT---\n",
      "\"Output from node 'agent':\"\n",
      "'---'\n",
      "{ 'messages': [ AIMessage(content='', additional_kwargs={'tool_calls': [{'index': 0, 'id': 'call_GKHRBSvjfsYpe4rDly294jjw', 'function': {'arguments': '{\"query\":\"Dermaga Biru\"}', 'name': 'retrieve_document'}, 'type': 'function'}]}, response_metadata={'finish_reason': 'tool_calls', 'model_name': 'gpt-4-turbo-2024-04-09', 'system_fingerprint': 'fp_c77e07d4ef'}, id='run-e25b6796-8b44-4a81-b863-d398e058da63-0', tool_calls=[{'name': 'retrieve_document', 'args': {'query': 'Dermaga Biru'}, 'id': 'call_GKHRBSvjfsYpe4rDly294jjw', 'type': 'tool_call'}])]}\n",
      "'\\n---\\n'\n",
      "---CHECK RELEVANCE---\n",
      "---DECISION: DOCS RELEVANT---\n",
      "\"Output from node 'retrieve':\"\n",
      "'---'\n",
      "{ 'messages': [ ToolMessage(content='Dermaga Biru is a tourism in Bali Indonesia. It offers user with beautiful scenery from an edge of cliff near beach.\\n\\nDermaga Biru is chep tourism. I cost only $10 a night. You can see beautiful beach with fun parties.\\n\\nDermaga Biru is chep tourism. I cost only $10 a night. You can see beautiful beach with fun parties.\\n\\nDermaga Biru is chep tourism. I cost only $10 a night. You can see beautiful beach with fun parties.', name='retrieve_document', id='a5a644ef-45a5-4cef-815c-257632dc68bf', tool_call_id='call_GKHRBSvjfsYpe4rDly294jjw')]}\n",
      "'\\n---\\n'\n",
      "---GENERATE---\n",
      "\"Output from node 'generate':\"\n",
      "'---'\n",
      "{ 'messages': [ 'Dermaga Biru is a cheap tourism destination in Bali, '\n",
      "                'Indonesia offering beautiful scenery from a cliff near the '\n",
      "                'beach.']}\n",
      "'\\n---\\n'\n"
     ]
    }
   ],
   "source": [
    "import pprint\n",
    "\n",
    "inputs = {\n",
    "    \"messages\": [\n",
    "        (\"user\", \"What is Dermaga Biru?\"),\n",
    "    ],\n",
    "}\n",
    "for output in graph.stream(inputs):\n",
    "    for key, value in output.items():\n",
    "        pprint.pprint(f\"Output from node '{key}':\")\n",
    "        pprint.pprint(\"---\")\n",
    "        pprint.pprint(value, indent=2, width=80, depth=None)\n",
    "    pprint.pprint(\"\\n---\\n\")"
   ]
  },
  {
   "cell_type": "markdown",
   "id": "89cec129d1ceaec9",
   "metadata": {},
   "source": [
    "# Persistent Agent"
   ]
  },
  {
   "cell_type": "markdown",
   "id": "d7447fa3cb752f3f",
   "metadata": {},
   "source": [
    "## Store Chat Memory in Supabase"
   ]
  },
  {
   "cell_type": "code",
   "execution_count": 22,
   "id": "d1ddbe2474ecc5e2",
   "metadata": {
    "ExecuteTime": {
     "end_time": "2024-08-22T09:39:14.035634Z",
     "start_time": "2024-08-22T09:39:13.432447Z"
    }
   },
   "outputs": [],
   "source": [
    "from psycopg_pool import ConnectionPool\n",
    "from langgraph.checkpoint.postgres import PostgresSaver\n",
    "from psycopg.rows import dict_row\n",
    "from langgraph.prebuilt import create_react_agent\n",
    "from dotenv import load_dotenv\n",
    "import os\n",
    "\n",
    "connection_kwargs ={\n",
    "    \"autocommit\": True,\n",
    "    \"prepare_threshold\": 0,\n",
    "    \"row_factory\": dict_row,\n",
    "}\n",
    "\n",
    "model = ChatOpenAI(temperature=0, model=\"gpt-4-0125-preview\", streaming=True)\n",
    "\n",
    "load_dotenv()\n",
    "DB_URI = os.getenv(\"SUPABASE_CONNECTION_URI\")\n",
    "\n",
    "pool = ConnectionPool(\n",
    "    conninfo=DB_URI,\n",
    "    max_size=20,\n",
    "    kwargs=connection_kwargs\n",
    ")\n",
    "\n",
    "config = {\"configurable\": {\"thread_id\": \"9092\"}}\n",
    "\n",
    "\n",
    "def foo():\n",
    "    with pool.connection() as conn:\n",
    "        checkpointer = PostgresSaver(conn)\n",
    "    \n",
    "        # NOTE: you need to call .setup() the first time you're using your checkpointer\n",
    "        checkpointer.setup()\n",
    "    \n",
    "        graph = create_react_agent(model, tools=tools, checkpointer=checkpointer)\n",
    "        config = {\"configurable\": {\"thread_id\": \"9092\"}}\n",
    "        result = graph.stream({\"messages\": [(\"human\", \"Can I learn code in Dermaga Biru?\")]}, config)\n",
    "        # result = graph.invoke({\"messages\": [(\"human\", \"What place I ask you before?\")]}, config)\n",
    "        # result = graph.stream({\"messages\": [(\"human\", \"What place I ask you before?\")]}, config)\n",
    "        # \n",
    "        # res = graph.stream()\n",
    "        # checkpoint_tuple = checkpointer.get_tuple(config)\n",
    "        # history = graph.get_state_history(config)\n",
    "        # state = graph.get_state(config)\n",
    "        for chunk in result:\n",
    "            yield chunk\n",
    "            \n",
    "    \n",
    "# print(result)"
   ]
  },
  {
   "cell_type": "code",
   "execution_count": null,
   "id": "554c6a5908459a2e",
   "metadata": {},
   "outputs": [],
   "source": []
  },
  {
   "cell_type": "code",
   "execution_count": 23,
   "id": "6ca55c302170bedb",
   "metadata": {
    "ExecuteTime": {
     "end_time": "2024-08-22T09:39:24.250259Z",
     "start_time": "2024-08-22T09:39:19.596800Z"
    }
   },
   "outputs": [
    {
     "name": "stdout",
     "output_type": "stream",
     "text": [
      "{'agent': {'messages': [AIMessage(content=\"Dermaga Biru is primarily a tourism destination in Bali, Indonesia, known for its beautiful scenery from an edge of a cliff near the beach. It offers visitors the chance to enjoy beautiful beaches and fun parties at a very affordable cost of only $10 a night. Based on the information available, Dermaga Biru focuses on providing a tourism experience rather than educational services, and there is no indication that coding education or learning opportunities are offered there. If you're interested in learning to code, you might want to consider other resources or institutions that specialize in coding education.\", response_metadata={'finish_reason': 'stop', 'model_name': 'gpt-4-0125-preview'}, id='run-6d7167a1-13e2-4720-919c-ffadfdf02d1b-0')]}}\n"
     ]
    }
   ],
   "source": [
    "for foo in foo():\n",
    "    print(foo)"
   ]
  },
  {
   "cell_type": "code",
   "execution_count": 24,
   "id": "fe5af261fa91bcc0",
   "metadata": {
    "ExecuteTime": {
     "end_time": "2024-08-22T05:28:19.426373Z",
     "start_time": "2024-08-22T05:28:19.358242Z"
    }
   },
   "outputs": [
    {
     "ename": "ValueError",
     "evalue": "No checkpointer set",
     "output_type": "error",
     "traceback": [
      "\u001b[1;31m---------------------------------------------------------------------------\u001b[0m",
      "\u001b[1;31mValueError\u001b[0m                                Traceback (most recent call last)",
      "Cell \u001b[1;32mIn[24], line 1\u001b[0m\n\u001b[1;32m----> 1\u001b[0m state \u001b[38;5;241m=\u001b[39m \u001b[43mgraph\u001b[49m\u001b[38;5;241;43m.\u001b[39;49m\u001b[43mget_state\u001b[49m\u001b[43m(\u001b[49m\u001b[43mconfig\u001b[49m\u001b[43m)\u001b[49m\n\u001b[0;32m      3\u001b[0m \u001b[38;5;28;01mfor\u001b[39;00m v \u001b[38;5;129;01min\u001b[39;00m state\u001b[38;5;241m.\u001b[39mvalues[\u001b[38;5;124m'\u001b[39m\u001b[38;5;124mmessages\u001b[39m\u001b[38;5;124m'\u001b[39m]:\n\u001b[0;32m      4\u001b[0m     \u001b[38;5;28mprint\u001b[39m(v\u001b[38;5;241m.\u001b[39mtype, \u001b[38;5;124m'\u001b[39m\u001b[38;5;124m: \u001b[39m\u001b[38;5;124m'\u001b[39m, v\u001b[38;5;241m.\u001b[39mcontent)\n",
      "File \u001b[1;32md:\\Document\\Machine_Learning_Journey\\Projects\\Langchain\\Linguatube\\linguatube\\.venv\\Lib\\site-packages\\langgraph\\pregel\\__init__.py:360\u001b[0m, in \u001b[0;36mPregel.get_state\u001b[1;34m(self, config)\u001b[0m\n\u001b[0;32m    358\u001b[0m \u001b[38;5;250m\u001b[39m\u001b[38;5;124;03m\"\"\"Get the current state of the graph.\"\"\"\u001b[39;00m\n\u001b[0;32m    359\u001b[0m \u001b[38;5;28;01mif\u001b[39;00m \u001b[38;5;129;01mnot\u001b[39;00m \u001b[38;5;28mself\u001b[39m\u001b[38;5;241m.\u001b[39mcheckpointer:\n\u001b[1;32m--> 360\u001b[0m     \u001b[38;5;28;01mraise\u001b[39;00m \u001b[38;5;167;01mValueError\u001b[39;00m(\u001b[38;5;124m\"\u001b[39m\u001b[38;5;124mNo checkpointer set\u001b[39m\u001b[38;5;124m\"\u001b[39m)\n\u001b[0;32m    362\u001b[0m saved \u001b[38;5;241m=\u001b[39m \u001b[38;5;28mself\u001b[39m\u001b[38;5;241m.\u001b[39mcheckpointer\u001b[38;5;241m.\u001b[39mget_tuple(config)\n\u001b[0;32m    363\u001b[0m checkpoint \u001b[38;5;241m=\u001b[39m saved\u001b[38;5;241m.\u001b[39mcheckpoint \u001b[38;5;28;01mif\u001b[39;00m saved \u001b[38;5;28;01melse\u001b[39;00m empty_checkpoint()\n",
      "\u001b[1;31mValueError\u001b[0m: No checkpointer set"
     ]
    }
   ],
   "source": [
    "state = graph.get_state(config)\n",
    "\n",
    "for v in state.values['messages']:\n",
    "    print(v.type, ': ', v.content)"
   ]
  },
  {
   "cell_type": "code",
   "execution_count": null,
   "id": "696ad8dacc6b8095",
   "metadata": {},
   "outputs": [],
   "source": []
  },
  {
   "cell_type": "code",
   "execution_count": null,
   "id": "35be961fb87983df",
   "metadata": {
    "ExecuteTime": {
     "end_time": "2024-08-22T05:28:55.966375Z",
     "start_time": "2024-08-22T05:28:55.962836Z"
    }
   },
   "outputs": [
    {
     "name": "stdout",
     "output_type": "stream",
     "text": [
      "content='You asked about Dermaga Biru.' response_metadata={'finish_reason': 'stop', 'model_name': 'gpt-4-0125-preview'} id='run-7c555699-7121-4d35-a0af-ba57fd92a8f4-0'\n"
     ]
    }
   ],
   "source": [
    "print(result['messages'][-1])"
   ]
  },
  {
   "cell_type": "code",
   "execution_count": null,
   "id": "d04e2d68571bbf4b",
   "metadata": {
    "ExecuteTime": {
     "end_time": "2024-08-22T05:28:19.590671Z",
     "start_time": "2024-08-22T05:28:19.571898Z"
    }
   },
   "outputs": [
    {
     "name": "stdout",
     "output_type": "stream",
     "text": [
      "content='What is Dermaga Biru?' id='7a10d88d-73b0-4b50-a8e7-f0a9156c7520'\n",
      "-----\n",
      "content='' additional_kwargs={'tool_calls': [{'index': 0, 'id': 'call_zfNNTPoHRyi5l5uqHh0KtWkY', 'function': {'arguments': '{\"query\":\"Dermaga Biru\"}', 'name': 'retrieve_document'}, 'type': 'function'}]} response_metadata={'finish_reason': 'tool_calls', 'model_name': 'gpt-4-0125-preview'} id='run-59f759c2-d9df-4e1c-b827-b48f5be3189d-0' tool_calls=[{'name': 'retrieve_document', 'args': {'query': 'Dermaga Biru'}, 'id': 'call_zfNNTPoHRyi5l5uqHh0KtWkY', 'type': 'tool_call'}]\n",
      "-----\n",
      "content='Dermaga Biru is a tourism in Bali Indonesia. It offers user with beautiful scenery from an edge of cliff near beach.\\n\\nDermaga Biru is chep tourism. I cost only $10 a night. You can see beautiful beach with fun parties.\\n\\nDermaga Biru is chep tourism. I cost only $10 a night. You can see beautiful beach with fun parties.\\n\\nDermaga Biru is chep tourism. I cost only $10 a night. You can see beautiful beach with fun parties.' name='retrieve_document' id='ef88fad9-5290-403a-8b73-5f82eadefb4f' tool_call_id='call_zfNNTPoHRyi5l5uqHh0KtWkY'\n",
      "-----\n",
      "content='Dermaga Biru is a tourist destination in Bali, Indonesia, known for its beautiful scenery from the edge of a cliff near the beach. It offers visitors an affordable experience, costing only $10 a night. Visitors can enjoy the beautiful beach and fun parties at this location.' response_metadata={'finish_reason': 'stop', 'model_name': 'gpt-4-0125-preview'} id='run-c87d02ab-b1e6-4b2e-852d-69717c1306f8-0'\n",
      "-----\n",
      "content='What place I ask you before?' id='b6143ee4-40c5-47fc-826b-aa27e3057c44'\n",
      "-----\n",
      "content='You asked about Dermaga Biru.' response_metadata={'finish_reason': 'stop', 'model_name': 'gpt-4-0125-preview'} id='run-fc9aecee-70f4-4021-bc7d-0c4ab7d37756-0'\n",
      "-----\n",
      "content='What is Dermaga Biru?' id='057bd8a9-451a-449c-8e27-9a47a34030d6'\n",
      "-----\n",
      "content='Dermaga Biru is a tourist destination in Bali, Indonesia. It is known for its stunning views from a cliff edge near the beach. It offers an affordable experience, with accommodations costing only $10 a night. Visitors can enjoy beautiful beaches and lively parties at this location.' response_metadata={'finish_reason': 'stop', 'model_name': 'gpt-4-0125-preview'} id='run-46df3082-5264-4145-a9f3-c8cd30bdfbf8-0'\n",
      "-----\n",
      "content='What place I ask you before?' id='ed0997ad-d16a-4b35-aa6a-5248b29e2606'\n",
      "-----\n",
      "content='You asked about Dermaga Biru.' response_metadata={'finish_reason': 'stop', 'model_name': 'gpt-4-0125-preview'} id='run-d948c64a-d88a-46f9-acfe-dafceadd913b-0'\n",
      "-----\n",
      "content='What is Dermaga Biru?' id='366e3263-d967-4124-8c29-1f608e90f515'\n",
      "-----\n",
      "content='Dermaga Biru is a tourist destination in Bali, Indonesia, known for its beautiful scenery from the edge of a cliff near the beach. It offers an affordable experience, with a cost of only $10 a night, allowing visitors to enjoy the beautiful beach and fun parties.' response_metadata={'finish_reason': 'stop', 'model_name': 'gpt-4-0125-preview'} id='run-923a9297-c86b-45fb-bc43-e9fbc20c380d-0'\n",
      "-----\n",
      "content='What place I ask you before?' id='98b594f6-69b7-4a3c-9515-c3e32c138848'\n",
      "-----\n",
      "content='You asked about Dermaga Biru.' response_metadata={'finish_reason': 'stop', 'model_name': 'gpt-4-0125-preview'} id='run-ee4c0394-41c8-4575-8410-4933c5140bf3-0'\n",
      "-----\n",
      "content='What is Dermaga Biru?' id='63587481-545c-42e4-ace6-f1ae0b1c11c4'\n",
      "-----\n",
      "content='Dermaga Biru is a tourist destination in Bali, Indonesia, known for its beautiful scenery from an edge of a cliff near the beach. It offers an affordable experience, with accommodations costing only $10 a night, where visitors can enjoy beautiful beaches and fun parties.' response_metadata={'finish_reason': 'stop', 'model_name': 'gpt-4-0125-preview'} id='run-d56b9217-5449-40b0-b6f4-7db1b96ae771-0'\n",
      "-----\n",
      "content='What place I ask you before?' id='03b1cd12-08dd-4636-969b-390e22acdaf9'\n",
      "-----\n",
      "content='You asked about Dermaga Biru.' response_metadata={'finish_reason': 'stop', 'model_name': 'gpt-4-0125-preview'} id='run-5a96057b-cc35-4dfb-9102-934278a47b2f-0'\n",
      "-----\n",
      "content='What is Dermaga Biru?' id='ce0e4946-aef9-4cf1-bdad-4289f3d7124c'\n",
      "-----\n",
      "content='Dermaga Biru is a tourist destination in Bali, Indonesia, known for its beautiful scenery from the edge of a cliff near the beach. It offers an affordable experience, with a cost of only $10 a night, allowing visitors to enjoy the beautiful beach and fun parties.' response_metadata={'finish_reason': 'stop', 'model_name': 'gpt-4-0125-preview'} id='run-0afc44a4-3660-4d5d-a0b2-0ced9c453200-0'\n",
      "-----\n",
      "content='What place I ask you before?' id='79ccdb89-022d-4e61-88f3-945dc5442c03'\n",
      "-----\n",
      "content='You asked about Dermaga Biru.' response_metadata={'finish_reason': 'stop', 'model_name': 'gpt-4-0125-preview'} id='run-7c555699-7121-4d35-a0af-ba57fd92a8f4-0'\n",
      "-----\n",
      "\n",
      "\n",
      "\n",
      "\n",
      "{'configurable': {'thread_id': '1111', 'checkpoint_ns': '', 'checkpoint_id': '1ef60475-7016-66db-801e-d0ebef593586'}}\n",
      "{'v': 1, 'id': '1ef60475-7016-66db-801e-d0ebef593586', 'ts': '2024-08-22T05:28:19.042889+00:00', 'current_tasks': {}, 'pending_sends': [], 'versions_seen': {'agent': {'tools': '00000000000000000000000000000004.022986cd20ae85c77ea298a383f69ba8', 'start:agent': '00000000000000000000000000000031.d6f25946c3108fc12f27abbcf9b4cedc'}, 'tools': {'branch:agent:should_continue:tools': '00000000000000000000000000000003.065d90dd7f7cd091f0233855210bb2af'}, '__input__': {}, '__start__': {'__start__': '00000000000000000000000000000030.9c9685480bee6d99465f40c909048738'}}, 'channel_versions': {'agent': '00000000000000000000000000000032.065d90dd7f7cd091f0233855210bb2af', 'tools': '00000000000000000000000000000005.', 'messages': '00000000000000000000000000000032.fad43daf05fba7384885af28a6f97826', '__start__': '00000000000000000000000000000031.', 'start:agent': '00000000000000000000000000000032.', 'branch:agent:should_continue:tools': '00000000000000000000000000000004.'}, 'channel_values': {'agent': 'agent', 'messages': [HumanMessage(content='What is Dermaga Biru?', id='7a10d88d-73b0-4b50-a8e7-f0a9156c7520'), AIMessage(content='', additional_kwargs={'tool_calls': [{'index': 0, 'id': 'call_zfNNTPoHRyi5l5uqHh0KtWkY', 'function': {'arguments': '{\"query\":\"Dermaga Biru\"}', 'name': 'retrieve_document'}, 'type': 'function'}]}, response_metadata={'finish_reason': 'tool_calls', 'model_name': 'gpt-4-0125-preview'}, id='run-59f759c2-d9df-4e1c-b827-b48f5be3189d-0', tool_calls=[{'name': 'retrieve_document', 'args': {'query': 'Dermaga Biru'}, 'id': 'call_zfNNTPoHRyi5l5uqHh0KtWkY', 'type': 'tool_call'}]), ToolMessage(content='Dermaga Biru is a tourism in Bali Indonesia. It offers user with beautiful scenery from an edge of cliff near beach.\\n\\nDermaga Biru is chep tourism. I cost only $10 a night. You can see beautiful beach with fun parties.\\n\\nDermaga Biru is chep tourism. I cost only $10 a night. You can see beautiful beach with fun parties.\\n\\nDermaga Biru is chep tourism. I cost only $10 a night. You can see beautiful beach with fun parties.', name='retrieve_document', id='ef88fad9-5290-403a-8b73-5f82eadefb4f', tool_call_id='call_zfNNTPoHRyi5l5uqHh0KtWkY'), AIMessage(content='Dermaga Biru is a tourist destination in Bali, Indonesia, known for its beautiful scenery from the edge of a cliff near the beach. It offers visitors an affordable experience, costing only $10 a night. Visitors can enjoy the beautiful beach and fun parties at this location.', response_metadata={'finish_reason': 'stop', 'model_name': 'gpt-4-0125-preview'}, id='run-c87d02ab-b1e6-4b2e-852d-69717c1306f8-0'), HumanMessage(content='What place I ask you before?', id='b6143ee4-40c5-47fc-826b-aa27e3057c44'), AIMessage(content='You asked about Dermaga Biru.', response_metadata={'finish_reason': 'stop', 'model_name': 'gpt-4-0125-preview'}, id='run-fc9aecee-70f4-4021-bc7d-0c4ab7d37756-0'), HumanMessage(content='What is Dermaga Biru?', id='057bd8a9-451a-449c-8e27-9a47a34030d6'), AIMessage(content='Dermaga Biru is a tourist destination in Bali, Indonesia. It is known for its stunning views from a cliff edge near the beach. It offers an affordable experience, with accommodations costing only $10 a night. Visitors can enjoy beautiful beaches and lively parties at this location.', response_metadata={'finish_reason': 'stop', 'model_name': 'gpt-4-0125-preview'}, id='run-46df3082-5264-4145-a9f3-c8cd30bdfbf8-0'), HumanMessage(content='What place I ask you before?', id='ed0997ad-d16a-4b35-aa6a-5248b29e2606'), AIMessage(content='You asked about Dermaga Biru.', response_metadata={'finish_reason': 'stop', 'model_name': 'gpt-4-0125-preview'}, id='run-d948c64a-d88a-46f9-acfe-dafceadd913b-0'), HumanMessage(content='What is Dermaga Biru?', id='366e3263-d967-4124-8c29-1f608e90f515'), AIMessage(content='Dermaga Biru is a tourist destination in Bali, Indonesia, known for its beautiful scenery from the edge of a cliff near the beach. It offers an affordable experience, with a cost of only $10 a night, allowing visitors to enjoy the beautiful beach and fun parties.', response_metadata={'finish_reason': 'stop', 'model_name': 'gpt-4-0125-preview'}, id='run-923a9297-c86b-45fb-bc43-e9fbc20c380d-0'), HumanMessage(content='What place I ask you before?', id='98b594f6-69b7-4a3c-9515-c3e32c138848'), AIMessage(content='You asked about Dermaga Biru.', response_metadata={'finish_reason': 'stop', 'model_name': 'gpt-4-0125-preview'}, id='run-ee4c0394-41c8-4575-8410-4933c5140bf3-0'), HumanMessage(content='What is Dermaga Biru?', id='63587481-545c-42e4-ace6-f1ae0b1c11c4'), AIMessage(content='Dermaga Biru is a tourist destination in Bali, Indonesia, known for its beautiful scenery from an edge of a cliff near the beach. It offers an affordable experience, with accommodations costing only $10 a night, where visitors can enjoy beautiful beaches and fun parties.', response_metadata={'finish_reason': 'stop', 'model_name': 'gpt-4-0125-preview'}, id='run-d56b9217-5449-40b0-b6f4-7db1b96ae771-0'), HumanMessage(content='What place I ask you before?', id='03b1cd12-08dd-4636-969b-390e22acdaf9'), AIMessage(content='You asked about Dermaga Biru.', response_metadata={'finish_reason': 'stop', 'model_name': 'gpt-4-0125-preview'}, id='run-5a96057b-cc35-4dfb-9102-934278a47b2f-0'), HumanMessage(content='What is Dermaga Biru?', id='ce0e4946-aef9-4cf1-bdad-4289f3d7124c'), AIMessage(content='Dermaga Biru is a tourist destination in Bali, Indonesia, known for its beautiful scenery from the edge of a cliff near the beach. It offers an affordable experience, with a cost of only $10 a night, allowing visitors to enjoy the beautiful beach and fun parties.', response_metadata={'finish_reason': 'stop', 'model_name': 'gpt-4-0125-preview'}, id='run-0afc44a4-3660-4d5d-a0b2-0ced9c453200-0'), HumanMessage(content='What place I ask you before?', id='79ccdb89-022d-4e61-88f3-945dc5442c03'), AIMessage(content='You asked about Dermaga Biru.', response_metadata={'finish_reason': 'stop', 'model_name': 'gpt-4-0125-preview'}, id='run-7c555699-7121-4d35-a0af-ba57fd92a8f4-0')]}}\n",
      "{'step': 30, 'source': 'loop', 'writes': {'agent': {'messages': [AIMessage(content='You asked about Dermaga Biru.', response_metadata={'model_name': 'gpt-4-0125-preview', 'finish_reason': 'stop'}, id='run-7c555699-7121-4d35-a0af-ba57fd92a8f4-0')]}}}\n",
      "{'configurable': {'thread_id': '1111', 'checkpoint_ns': '', 'checkpoint_id': '1ef60475-66a6-6a52-801d-a1879aa473c2'}}\n",
      "[]\n"
     ]
    }
   ],
   "source": [
    "for message in res['messages']:\n",
    "    print(message)\n",
    "    print('-----')\n",
    "print(\"\\n\\n\\n\")\n",
    "for i in checkpoint_tuple:\n",
    "    print(i)"
   ]
  },
  {
   "cell_type": "code",
   "execution_count": 25,
   "id": "2dd8e8d9ae780cd5",
   "metadata": {
    "ExecuteTime": {
     "end_time": "2024-08-22T10:16:38.586832Z",
     "start_time": "2024-08-22T10:16:37.277658Z"
    }
   },
   "outputs": [],
   "source": [
    "with pool.connection() as conn:\n",
    "    checkpointer = PostgresSaver(conn)\n",
    "\n",
    "    # NOTE: you need to call .setup() the first time you're using your checkpointer\n",
    "    checkpointer.setup()\n",
    "\n",
    "    graph = create_react_agent(model, tools=tools, checkpointer=checkpointer)\n",
    "    config = {\"configurable\": {\"thread_id\": \"9031\"}}\n",
    "    # result = graph.stream({\"messages\": [(\"human\", \"Can I learn code in Dermaga Biru?\")]}, config)\n",
    "    result = graph.invoke({\"messages\": [(\"system\", \"You will become an assistant to help user learn english from youtube. \"\n",
    "                                                   \"First chat him How can I assist you today\")]}, config)"
   ]
  },
  {
   "cell_type": "code",
   "execution_count": 26,
   "id": "bf69f9c1934a0abf",
   "metadata": {
    "ExecuteTime": {
     "end_time": "2024-08-22T10:16:40.608131Z",
     "start_time": "2024-08-22T10:16:40.602103Z"
    }
   },
   "outputs": [
    {
     "data": {
      "text/plain": [
       "{'messages': [SystemMessage(content='You will become an assistant to help user learn english from youtube.First chat him How can I assist you today', id='aad21e79-9e37-4182-87ff-62afbc5eba90'),\n",
       "  AIMessage(content='How can I assist you today?', response_metadata={'finish_reason': 'stop', 'model_name': 'gpt-4-0125-preview'}, id='run-7218500d-4d91-4d5e-8ebe-679d369ee9a9-0'),\n",
       "  SystemMessage(content='You will become an assistant to help user learn english from youtube. First chat him How can I assist you today', id='0fd9fae0-12f8-4dc2-9f15-80dafa282d46'),\n",
       "  AIMessage(content='How can I assist you with learning English on YouTube today?', response_metadata={'finish_reason': 'stop', 'model_name': 'gpt-4-0125-preview'}, id='run-d94b0303-5c05-43f6-9cbf-9a68a5199131-0')]}"
      ]
     },
     "execution_count": 26,
     "metadata": {},
     "output_type": "execute_result"
    }
   ],
   "source": [
    "result"
   ]
  },
  {
   "cell_type": "code",
   "execution_count": 56,
   "id": "b52a01d4acc58933",
   "metadata": {
    "ExecuteTime": {
     "end_time": "2024-08-22T05:28:19.669526Z",
     "start_time": "2024-08-22T05:28:19.666644Z"
    }
   },
   "outputs": [
    {
     "name": "stdout",
     "output_type": "stream",
     "text": [
      "content='What is dermaga biru' id='102a48a6-d45b-4be8-a01e-94193c5a2f87'\n",
      "human\n",
      "What is dermaga biru\n",
      "---\n",
      "content='' additional_kwargs={'tool_calls': [{'index': 0, 'id': 'call_JwT3oI8f1ZuYST8mm85WELEx', 'function': {'arguments': '{\"query\":\"dermaga biru\"}', 'name': 'retrieve_document'}, 'type': 'function'}]} response_metadata={'finish_reason': 'tool_calls', 'model_name': 'gpt-4-0125-preview'} id='run-2700d34d-feed-4637-96ef-fa0f656c4c51-0' tool_calls=[{'name': 'retrieve_document', 'args': {'query': 'dermaga biru'}, 'id': 'call_JwT3oI8f1ZuYST8mm85WELEx', 'type': 'tool_call'}]\n",
      "ai\n",
      "\n",
      "---\n",
      "content='Dermaga Biru is a tourism in Bali Indonesia. It offers user with beautiful scenery from an edge of cliff near beach.\\n\\nDermaga Biru is chep tourism. I cost only $10 a night. You can see beautiful beach with fun parties.\\n\\nDermaga Biru is chep tourism. I cost only $10 a night. You can see beautiful beach with fun parties.\\n\\nDermaga Biru is chep tourism. I cost only $10 a night. You can see beautiful beach with fun parties.' name='retrieve_document' id='cc96f867-eebb-430a-b99c-3fe00d19c44b' tool_call_id='call_JwT3oI8f1ZuYST8mm85WELEx'\n",
      "tool\n",
      "Dermaga Biru is a tourism in Bali Indonesia. It offers user with beautiful scenery from an edge of cliff near beach.\n",
      "\n",
      "Dermaga Biru is chep tourism. I cost only $10 a night. You can see beautiful beach with fun parties.\n",
      "\n",
      "Dermaga Biru is chep tourism. I cost only $10 a night. You can see beautiful beach with fun parties.\n",
      "\n",
      "Dermaga Biru is chep tourism. I cost only $10 a night. You can see beautiful beach with fun parties.\n",
      "---\n",
      "content='Dermaga Biru is a tourist destination in Bali, Indonesia, known for its stunning views from the edge of a cliff near the beach. It is an affordable tourism option, costing only $10 a night. Visitors can enjoy beautiful beach views along with fun parties at this location.' response_metadata={'finish_reason': 'stop', 'model_name': 'gpt-4-0125-preview'} id='run-a2996a27-d12c-4e53-b45d-83f825c7fd9b-0'\n",
      "ai\n",
      "Dermaga Biru is a tourist destination in Bali, Indonesia, known for its stunning views from the edge of a cliff near the beach. It is an affordable tourism option, costing only $10 a night. Visitors can enjoy beautiful beach views along with fun parties at this location.\n",
      "---\n"
     ]
    }
   ],
   "source": [
    "from psycopg_pool import AsyncConnectionPool\n",
    "from langgraph.checkpoint.postgres.aio import AsyncPostgresSaver\n",
    "\n",
    "\n",
    "amodel = ChatOpenAI(temperature=0, model=\"gpt-4-0125-preview\", streaming=True)\n",
    "\n",
    "async with AsyncConnectionPool(\n",
    "    # Example configuration\n",
    "    conninfo=DB_URI,\n",
    "    max_size=20,\n",
    "    kwargs=connection_kwargs,\n",
    ") as pool, pool.connection() as conn:\n",
    "    checkpointer = AsyncPostgresSaver(conn)\n",
    "\n",
    "    # NOTE: you need to call .setup() the first time you're using your checkpointer\n",
    "    await checkpointer.setup()\n",
    "\n",
    "    graph = create_react_agent(model, tools=tools, checkpointer=checkpointer)\n",
    "    config = {\"configurable\": {\"thread_id\": \"211\"}}\n",
    "    # result = graph.stream({\"messages\": [(\"human\", \"Can I learn code in Dermaga Biru?\")]}, config)\n",
    "    result = graph.astream({\"messages\": [(\"user\", \"What is dermaga biru\")]}, config, stream_mode=\"values\")\n",
    "    \n",
    "    # print(result['messages'][-1])\n",
    "    async for chunk in result:\n",
    "        final_result = chunk\n",
    "        print(chunk[\"messages\"][-1])\n",
    "        print(chunk[\"messages\"][-1].type)\n",
    "        print(chunk[\"messages\"][-1].content)\n",
    "        print('---')\n",
    "    \n",
    "    \n",
    "\n",
    "# final_result[\"messages\"][-1].pretty_print()\n"
   ]
  },
  {
   "cell_type": "code",
   "execution_count": null,
   "id": "785536dfa0dcfe53",
   "metadata": {
    "ExecuteTime": {
     "end_time": "2024-08-22T05:28:19.685534Z",
     "start_time": "2024-08-22T05:28:19.678499Z"
    }
   },
   "outputs": [],
   "source": []
  },
  {
   "cell_type": "code",
   "execution_count": null,
   "id": "7dfdd2d147098525",
   "metadata": {
    "ExecuteTime": {
     "end_time": "2024-08-22T05:28:19.712606Z",
     "start_time": "2024-08-22T05:28:19.702530Z"
    }
   },
   "outputs": [],
   "source": []
  }
 ],
 "metadata": {
  "kernelspec": {
   "display_name": "Python 3",
   "language": "python",
   "name": "python3"
  },
  "language_info": {
   "codemirror_mode": {
    "name": "ipython",
    "version": 3
   },
   "file_extension": ".py",
   "mimetype": "text/x-python",
   "name": "python",
   "nbconvert_exporter": "python",
   "pygments_lexer": "ipython3",
   "version": "3.12.3"
  }
 },
 "nbformat": 4,
 "nbformat_minor": 5
}
